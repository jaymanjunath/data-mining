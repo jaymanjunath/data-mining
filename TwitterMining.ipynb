{
 "cells": [
  {
   "cell_type": "code",
   "execution_count": 20,
   "metadata": {},
   "outputs": [],
   "source": [
    "#import modules\n",
    "import json\n",
    "import pandas as pd\n",
    "import numpy as np\n",
    "import sklearn\n",
    "from sklearn.feature_extraction import text as sk_fe_text\n",
    "from sklearn.model_selection import train_test_split\n",
    "from sklearn.metrics import precision_score, f1_score, recall_score\n",
    "from TwitterAPI import TwitterAPI\n",
    "from IPython.display import Image"
   ]
  },
  {
   "cell_type": "code",
   "execution_count": 11,
   "metadata": {},
   "outputs": [],
   "source": [
    "#Twitter api key\n",
    "api = TwitterAPI('QNfuwJhdHesrXfpVmYGYx9UYi', '8ZTHg0osCzwOqxvmqwZUNI1KaWu2PI9C4tao29VeEp0UlzlTbH', auth_type = 'oAuth2')"
   ]
  },
  {
   "cell_type": "code",
   "execution_count": 4,
   "metadata": {},
   "outputs": [],
   "source": [
    "def score(true,pred):\n",
    "    return (precision_score(true,pred),\n",
    "            recall_score(true,pred),\n",
    "            f1_score(true,pred))"
   ]
  },
  {
   "cell_type": "code",
   "execution_count": 5,
   "metadata": {},
   "outputs": [],
   "source": [
    "def print_score(s):\n",
    "    print (\"\"\"\n",
    "Precision: {:0.3}\n",
    "Recall:    {:0.3}\n",
    "F-SCore:   {:0.3}\n",
    "\"\"\".format(*s))"
   ]
  },
  {
   "cell_type": "code",
   "execution_count": 17,
   "metadata": {},
   "outputs": [],
   "source": [
    "def searchTwitter(query,feed=\"search/tweets\",api=api,n=4000):\n",
    "  r = []\n",
    "  qs = 0\n",
    "  if len(r)==0:\n",
    "    r.extend([t for t in api.request(\"search/tweets\",{'q':query,'count':n})])\n",
    "    qs +=1\n",
    "  while len(r) < n:\n",
    "#     print(\"Querrying twitter for {}. {}/{} gathered.\".format(query,len(r),n))\n",
    "    last = r[-1]['id']\n",
    "    r.extend([t for t in api.request(\"search/tweets\",{'q':query,'count':n,\n",
    "                                                        'max_id':last})])\n",
    "    qs += 1\n",
    "    if qs > 180:\n",
    "      time.sleep(840)\n",
    "      qs = 0\n",
    "  return r[:n]"
   ]
  },
  {
   "cell_type": "code",
   "execution_count": 18,
   "metadata": {},
   "outputs": [],
   "source": [
    "#Tweets from Twitter\n",
    "cats = searchTwitter('#cats')\n",
    "dogs = searchTwitter('#dogs')"
   ]
  },
  {
   "cell_type": "code",
   "execution_count": 19,
   "metadata": {},
   "outputs": [],
   "source": [
    "#converting json from Twitter into a dataframe\n",
    "cats_d = pd.read_json(json.dumps(cats))\n",
    "dogs_d = pd.read_json(json.dumps(dogs))"
   ]
  },
  {
   "cell_type": "code",
   "execution_count": 22,
   "metadata": {},
   "outputs": [],
   "source": [
    "# display(cats_d)"
   ]
  },
  {
   "cell_type": "code",
   "execution_count": null,
   "metadata": {},
   "outputs": [],
   "source": []
  }
 ],
 "metadata": {
  "kernelspec": {
   "display_name": "Python 3",
   "language": "python",
   "name": "python3"
  },
  "language_info": {
   "codemirror_mode": {
    "name": "ipython",
    "version": 3
   },
   "file_extension": ".py",
   "mimetype": "text/x-python",
   "name": "python",
   "nbconvert_exporter": "python",
   "pygments_lexer": "ipython3",
   "version": "3.6.2rc1"
  }
 },
 "nbformat": 4,
 "nbformat_minor": 2
}
